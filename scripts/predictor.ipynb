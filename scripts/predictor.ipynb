{
 "cells": [
  {
   "cell_type": "code",
   "execution_count": 1,
   "metadata": {},
   "outputs": [
    {
     "name": "stderr",
     "output_type": "stream",
     "text": [
      "/home/osollila/.conda/envs/py39/lib/python3.9/site-packages/MDAnalysis/coordinates/chemfiles.py:108: DeprecationWarning: distutils Version classes are deprecated. Use packaging.version instead.\n",
      "  MIN_CHEMFILES_VERSION = LooseVersion(\"0.9\")\n"
     ]
    }
   ],
   "source": [
    "import os\n",
    "import sys\n",
    "import numpy as np\n",
    "import json\n",
    "import matplotlib.pyplot as plt\n",
    "import MDAnalysis\n",
    "import urllib.request\n",
    "import yaml\n",
    "import random\n",
    "\n",
    "\n",
    "# This defines the path for the NMRlipids databank on your computer. \n",
    "# Default is that this repository and the NMRlipids databank repository are cloned to the same folder.\n",
    "# If this is not the case, change this to the folder where the NMRlipids databank repository is located.\n",
    "databankPath =  '../../Databank/'\n",
    "\n",
    "# This enables the access to functions defined in the NMRlipids databank.\n",
    "sys.path.insert(1, databankPath + '/Scripts/BuildDatabank/')\n",
    "from databankLibrary import * \n",
    "\n",
    "# This initializes the databank and stores the information of all simulations into a list.\n",
    "# Each list item contains the information from README.yaml file of the given simulation.\n",
    "systems = initialize_databank(databankPath)\n"
   ]
  },
  {
   "cell_type": "code",
   "execution_count": 5,
   "metadata": {},
   "outputs": [],
   "source": [
    "#InterestingComposition = ['POPC', 'CHOL','POPE','POPS','SAPI']\n",
    "InterestingComposition = ['POPS', 'POPE','POPC']\n",
    "aplArray = []\n",
    "interestArray = []\n",
    "\n",
    "for system in systems:\n",
    "    skip = True\n",
    "    \n",
    "    for interest in InterestingComposition:\n",
    "        if interest in system['COMPOSITION']:\n",
    "            skip = False\n",
    "    \n",
    "    if skip:\n",
    "        continue\n",
    "\n",
    "        \n",
    "    interestArrayTMP = []\n",
    "    for interest in InterestingComposition:\n",
    "        try:\n",
    "            interestArrayTMP.append(sum(system['COMPOSITION'][interest]['COUNT']) / GetNlipids(system))\n",
    "        except:\n",
    "            interestArrayTMP.append(0)\n",
    "    \n",
    "    aplArray.append(CalcAreaPerMolecule(system))\n",
    "    \n",
    "    interestArray.append(interestArrayTMP)\n",
    "    \n",
    "    #print(system['COMPOSITION'])\n",
    "    #print(CalcAreaPerMolecule(system))\n",
    "    #print()"
   ]
  },
  {
   "cell_type": "code",
   "execution_count": 6,
   "metadata": {},
   "outputs": [
    {
     "name": "stdout",
     "output_type": "stream",
     "text": [
      "[20.5685181  24.57644893 26.34993358]\n"
     ]
    }
   ],
   "source": [
    "from sklearn.linear_model import LinearRegression\n",
    "\n",
    "X = np.array(interestArray)\n",
    "y = np.array(aplArray)\n",
    "\n",
    "# Create an instance of the LinearRegression class\n",
    "reg = LinearRegression()\n",
    " \n",
    "# Fit the model to the data\n",
    "reg.fit(X, y)\n",
    " \n",
    "# Print the coefficients of the model\n",
    "print(reg.coef_)"
   ]
  },
  {
   "cell_type": "code",
   "execution_count": 8,
   "metadata": {},
   "outputs": [
    {
     "data": {
      "text/plain": [
       "array([58.11222545])"
      ]
     },
     "execution_count": 8,
     "metadata": {},
     "output_type": "execute_result"
    }
   ],
   "source": [
    "#reg.predict([[0.35, 0.25,0.25,0.1,0.05]])\n",
    "reg.predict([[0.7, 0.25,0.05]])"
   ]
  },
  {
   "cell_type": "code",
   "execution_count": null,
   "metadata": {},
   "outputs": [],
   "source": []
  }
 ],
 "metadata": {
  "kernelspec": {
   "display_name": "Python 3 (ipykernel)",
   "language": "python",
   "name": "python3"
  },
  "language_info": {
   "codemirror_mode": {
    "name": "ipython",
    "version": 3
   },
   "file_extension": ".py",
   "mimetype": "text/x-python",
   "name": "python",
   "nbconvert_exporter": "python",
   "pygments_lexer": "ipython3",
   "version": "3.9.9"
  }
 },
 "nbformat": 4,
 "nbformat_minor": 4
}
