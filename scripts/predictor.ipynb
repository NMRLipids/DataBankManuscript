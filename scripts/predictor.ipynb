{
 "cells": [
  {
   "cell_type": "code",
   "execution_count": 1,
   "metadata": {},
   "outputs": [],
   "source": [
    "import os\n",
    "import sys\n",
    "import numpy as np\n",
    "import json\n",
    "import matplotlib.pyplot as plt\n",
    "import mdtraj\n",
    "import urllib.request\n",
    "import yaml\n",
    "\n",
    "\n",
    "sys.path.insert(1, '../../Databank/Scripts/BuildDatabank/')\n",
    "from databankLibrary import download_link, lipids_dict, databank\n",
    "\n",
    "path = '../../Databank/Data/Simulations/'\n",
    "db_data = databank(path)\n",
    "systems = db_data.get_systems()\n",
    "\n",
    "def CalcAreaPerMolecule(system):\n",
    "    APLpath = system['path'] + 'apl.json'\n",
    "    try:\n",
    "        f = open(APLpath)\n",
    "        APLdata = json.load(f)\n",
    "        sumAPL = 0\n",
    "        sumIND = 0\n",
    "        for i,j in APLdata.items():\n",
    "            sumAPL += j\n",
    "            sumIND += 1\n",
    "        APL = sumAPL/sumIND\n",
    "        return(APL)\n",
    "    except:\n",
    "        print('apl.json not found from' + system['path'])\n",
    "        \n",
    "def GetNlipids(system):\n",
    "    Nlipid = 0\n",
    "    for molecule in system['COMPOSITION']:\n",
    "        if molecule in lipids_dict:\n",
    "            Nlipid += np.sum(system['COMPOSITION'][molecule]['COUNT'])\n",
    "    return Nlipid\n"
   ]
  },
  {
   "cell_type": "code",
   "execution_count": 2,
   "metadata": {},
   "outputs": [],
   "source": [
    "InterestingComposition = ['POPC', 'CHOL','POPE','POPS','SAPI']\n",
    "#InterestingComposition = ['POPS', 'POPE','POPC']\n",
    "aplArray = []\n",
    "interestArray = []\n",
    "\n",
    "for system in systems:\n",
    "    skip = True\n",
    "    \n",
    "    for interest in InterestingComposition:\n",
    "        if interest in system['COMPOSITION']:\n",
    "            skip = False\n",
    "    \n",
    "    if skip:\n",
    "        continue\n",
    "\n",
    "        \n",
    "    interestArrayTMP = []\n",
    "    for interest in InterestingComposition:\n",
    "        try:\n",
    "            interestArrayTMP.append(sum(system['COMPOSITION'][interest]['COUNT']) / GetNlipids(system))\n",
    "        except:\n",
    "            interestArrayTMP.append(0)\n",
    "    \n",
    "    aplArray.append(CalcAreaPerMolecule(system))\n",
    "    \n",
    "    interestArray.append(interestArrayTMP)\n",
    "    \n",
    "    #print(system['COMPOSITION'])\n",
    "    #print(CalcAreaPerMolecule(system))\n",
    "    #print()"
   ]
  },
  {
   "cell_type": "code",
   "execution_count": 3,
   "metadata": {},
   "outputs": [
    {
     "name": "stdout",
     "output_type": "stream",
     "text": [
      "[ -1.13077855 -45.22393764  -5.29227884  -7.25145393 -18.6417378 ]\n"
     ]
    }
   ],
   "source": [
    "from sklearn.linear_model import LinearRegression\n",
    "\n",
    "X = np.array(interestArray)\n",
    "y = np.array(aplArray)\n",
    "\n",
    "# Create an instance of the LinearRegression class\n",
    "reg = LinearRegression()\n",
    " \n",
    "# Fit the model to the data\n",
    "reg.fit(X, y)\n",
    " \n",
    "# Print the coefficients of the model\n",
    "print(reg.coef_)"
   ]
  },
  {
   "cell_type": "code",
   "execution_count": 6,
   "metadata": {},
   "outputs": [
    {
     "data": {
      "text/plain": [
       "array([49.29803795])"
      ]
     },
     "execution_count": 6,
     "metadata": {},
     "output_type": "execute_result"
    }
   ],
   "source": [
    "reg.predict([[0.35, 0.25,0.25,0.1,0.05]])\n",
    "#reg.predict([[0.8, 0.15,0.05]])"
   ]
  },
  {
   "cell_type": "code",
   "execution_count": null,
   "metadata": {},
   "outputs": [],
   "source": []
  }
 ],
 "metadata": {
  "kernelspec": {
   "display_name": "Python 3 (ipykernel)",
   "language": "python",
   "name": "python3"
  },
  "language_info": {
   "codemirror_mode": {
    "name": "ipython",
    "version": 3
   },
   "file_extension": ".py",
   "mimetype": "text/x-python",
   "name": "python",
   "nbconvert_exporter": "python",
   "pygments_lexer": "ipython3",
   "version": "3.10.9"
  }
 },
 "nbformat": 4,
 "nbformat_minor": 4
}
