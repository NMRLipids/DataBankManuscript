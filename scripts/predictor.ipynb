{
 "cells": [
  {
   "cell_type": "code",
   "execution_count": 1,
   "metadata": {},
   "outputs": [],
   "source": [
    "import os\n",
    "import sys\n",
    "import numpy as np\n",
    "import json\n",
    "import matplotlib.pyplot as plt\n",
    "import MDAnalysis\n",
    "import urllib.request\n",
    "import yaml\n",
    "import random\n",
    "\n",
    "\n",
    "# This defines the path for the NMRlipids databank on your computer. \n",
    "# Default is that this repository and the NMRlipids databank repository are cloned to the same folder.\n",
    "# If this is not the case, change this to the folder where the NMRlipids databank repository is located.\n",
    "databankPath =  '../../Databank/'\n",
    "\n",
    "# This enables the access to functions defined in the NMRlipids databank.\n",
    "sys.path.insert(1, databankPath + '/Scripts/BuildDatabank/')\n",
    "from databankLibrary import * \n",
    "\n",
    "# This initializes the databank and stores the information of all simulations into a list.\n",
    "# Each list item contains the information from README.yaml file of the given simulation.\n",
    "systems = initialize_databank(databankPath)\n"
   ]
  },
  {
   "cell_type": "code",
   "execution_count": 67,
   "metadata": {},
   "outputs": [
    {
     "name": "stdout",
     "output_type": "stream",
     "text": [
      "Linear regression model coefficents:  [ -1.14095308  -5.29230581  -7.24782914 -45.20973488 -53.597217  ] \n",
      "\n",
      "Predicted area per lipid for membrane with  ['POPC', 'POPE', 'POPS', 'CHOL', 'POPI'] with the molecular ratios of  [0.68, 0.21, 0.04, 0.07, 0.0] :\n",
      "\n",
      "58.63840873180086 Å^2\n"
     ]
    }
   ],
   "source": [
    "### Put your composition with NMRlipids databank universal molecule names into the 'InterestingCompositions' array,\n",
    "### and molecular ratios to the 'MolecularRatios' array. The code will then predict the are per lipid for your \n",
    "### composition using linear regression model based on the NMRlipids databank.\n",
    "\n",
    "InterestingComposition = ['POPC','POPE','POPS', 'CHOL', 'POPI']\n",
    "MolecularRatios = [0.68, 0.21,0.04,0.07,0.0]\n",
    "\n",
    "#InterestingComposition = ['POPS', 'POPE','POPC']\n",
    "\n",
    "#InterestingComposition = ['POPC','CHOL']\n",
    "#MolecularRatios = [1, 0]\n",
    "\n",
    "aplArray = []\n",
    "interestArray = []\n",
    "\n",
    "for system in systems:\n",
    "    skip = True\n",
    "    \n",
    "    for interest in InterestingComposition:\n",
    "        if interest in system['COMPOSITION']:\n",
    "            skip = False\n",
    "    \n",
    "    if skip:\n",
    "        continue\n",
    "\n",
    "    #if 'CHARMM' not in system['FF']:\n",
    "    #    continue\n",
    "    \n",
    "    #if system['TEMPERATURE'] < 304:\n",
    "    #    continue\n",
    "    \n",
    "        \n",
    "    interestArrayTMP = []\n",
    "    for interest in InterestingComposition:\n",
    "        try:\n",
    "            interestArrayTMP.append(sum(system['COMPOSITION'][interest]['COUNT']) / GetNlipids(system))\n",
    "        except:\n",
    "            interestArrayTMP.append(0)\n",
    "    \n",
    "    try:\n",
    "        aplArray.append(CalcAreaPerMolecule(system))\n",
    "        interestArray.append(interestArrayTMP)\n",
    "    except:\n",
    "        print('Skipped ' + system['path'])\n",
    "        continue\n",
    "    \n",
    "    #print(system['COMPOSITION'])\n",
    "    #print(CalcAreaPerMolecule(system))\n",
    "    #print()\n",
    "    \n",
    "    \n",
    "    \n",
    "from sklearn.linear_model import LinearRegression\n",
    "\n",
    "X = np.array(interestArray)\n",
    "y = np.array(aplArray)\n",
    "\n",
    "# Create an instance of the LinearRegression class\n",
    "reg = LinearRegression()\n",
    " \n",
    "# Fit the model to the data\n",
    "reg.fit(X, y)\n",
    " \n",
    "# Print the coefficients of the model\n",
    "print('Linear regression model coefficents: ' , reg.coef_, '\\n')\n",
    "\n",
    "\n",
    "predictedAPL = reg.predict([MolecularRatios])\n",
    "print('Predicted area per lipid for membrane with ' , \n",
    "      InterestingComposition, 'with the molecular ratios of ' , MolecularRatios, ':\\n')\n",
    "print(predictedAPL[0], 'Å^2')"
   ]
  },
  {
   "cell_type": "code",
   "execution_count": 11,
   "metadata": {},
   "outputs": [
    {
     "name": "stdout",
     "output_type": "stream",
     "text": [
      "1600\n",
      "POPC 0.54\n",
      "POPE 0.21\n",
      "POPS 0.04\n",
      "CHL1 0.07\n",
      "POPI 0.1\n",
      "PSM 0.04\n"
     ]
    }
   ],
   "source": [
    "CompDict = {'POPC': 864,\n",
    "'POPE': 336,\n",
    "'POPS': 64,\n",
    "'CHL1': 112,\n",
    "'POPI': 160,\n",
    "'PSM': 64}\n",
    "\n",
    "Nlipids = 0\n",
    "for i in CompDict:\n",
    "    Nlipids += CompDict[i]\n",
    "print(Nlipids)\n",
    "\n",
    "for i in CompDict:\n",
    "    print(i, CompDict[i]/Nlipids)"
   ]
  },
  {
   "cell_type": "code",
   "execution_count": null,
   "metadata": {},
   "outputs": [],
   "source": []
  }
 ],
 "metadata": {
  "kernelspec": {
   "display_name": "Python 3 (ipykernel)",
   "language": "python",
   "name": "python3"
  },
  "language_info": {
   "codemirror_mode": {
    "name": "ipython",
    "version": 3
   },
   "file_extension": ".py",
   "mimetype": "text/x-python",
   "name": "python",
   "nbconvert_exporter": "python",
   "pygments_lexer": "ipython3",
   "version": "3.10.9"
  }
 },
 "nbformat": 4,
 "nbformat_minor": 4
}
