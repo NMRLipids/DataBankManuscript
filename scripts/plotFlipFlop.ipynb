{
 "cells": [
  {
   "cell_type": "code",
   "execution_count": 1,
   "metadata": {},
   "outputs": [],
   "source": [
    "import math\n",
    "import json\n",
    "import os\n",
    "import sys\n",
    "import pdb\n",
    "from itertools import compress\n",
    "\n",
    "import matplotlib.pyplot as plt\n",
    "import numpy as np\n",
    "#import pandas as pd\n",
    "#import seaborn as sn\n",
    "#import scipy.stats\n",
    "from scipy import stats\n",
    "#import scipy.optimize\n",
    "\n",
    "sys.path.insert(1, '../../Databank/Scripts/BuildDatabank/')\n",
    "from databankLibrary import download_link, lipids_dict, databank"
   ]
  },
  {
   "cell_type": "code",
   "execution_count": 2,
   "metadata": {},
   "outputs": [],
   "source": [
    "path = '../Data/Flipflops/'\n",
    "db_data = databank(path)\n",
    "systems = db_data.get_systems()"
   ]
  },
  {
   "cell_type": "code",
   "execution_count": 3,
   "metadata": {},
   "outputs": [],
   "source": [
    "def averageOrderParameters(system):\n",
    "    pathTMP = system['path']\n",
    "    path = pathTMP.replace('../Data/Flipflops/', '../../Databank/Data/Simulations/')\n",
    "    sn1sum = 0\n",
    "    sn1count = 0\n",
    "    sn2sum = 0\n",
    "    sn2count = 0\n",
    "    \n",
    "    for lipid in system['COMPOSITION']:\n",
    "        if lipid in lipids_dict and not 'CHOL' in lipid:\n",
    "            OPpathSIM = f'{path}{lipid}OrderParameters.json'\n",
    "            with open(OPpathSIM) as json_file:\n",
    "                OPsim = json.load(json_file)\n",
    "    \n",
    "            for key in OPsim:\n",
    "                if 'M_G1C' in key:\n",
    "                    sn1sum += float(OPsim[key][0][0])\n",
    "                    sn1count += 1\n",
    "                elif 'M_G2C' in key:\n",
    "                    sn2sum += float(OPsim[key][0][0])\n",
    "                    sn2count += 1\n",
    "\n",
    "    return (-sn1sum/sn1count -sn2sum/sn2count)/2\n",
    "\n",
    "def GetThickness(system):\n",
    "    path = system['path']\n",
    "    ThicknessPath = path.replace('../Data/Flipflops/', '../../Databank/Data/Simulations/')\n",
    "    ThicknessPath = f'{ThicknessPath}thickness.json'\n",
    "    #try:\n",
    "    f = open(ThicknessPath)\n",
    "    thickness = json.load(f)\n",
    "    return(thickness)\n",
    "\n",
    "def CalcAreaPerMolecule(system):\n",
    "    path = system['path']\n",
    "    APLpath = path.replace('../Data/Flipflops/', '../../Databank/Data/Simulations/')\n",
    "    APLpath = f'{APLpath}apl.json'\n",
    "    f = open(APLpath)\n",
    "    APLdata = json.load(f)\n",
    "    sumAPL = 0\n",
    "    sumIND = 0\n",
    "    for i,j in APLdata.items():\n",
    "        sumAPL += j\n",
    "        sumIND += 1\n",
    "    APL = sumAPL/sumIND\n",
    "    return(APL)\n",
    "        \n",
    "def getFlipflop(path):\n",
    "    try:\n",
    "        f = open(f'{path}flipflop.dat', 'r')\n",
    "    except:\n",
    "        print(\"no file\")\n",
    "        return np.array([]), [], []\n",
    "        \n",
    "    lines = f.readlines()[1:]\n",
    "    flipflops = [line.split('    ') for line in lines]\n",
    "    names = [line[0] for line in flipflops]\n",
    "    flipflops = [line[1:] for line in flipflops]\n",
    "    list_names = list(set(names))\n",
    "    \n",
    "    if len(flipflops) == 0:\n",
    "        flipflops = np.array(flipflops)\n",
    "        flipflops = flipflops.astype('int64')\n",
    "        return flipflops, [], []\n",
    "    \n",
    "    for flip in flipflops:\n",
    "        if flip[-1] == 'Success\\n':\n",
    "            flip[-1] = '1'\n",
    "        else:\n",
    "            flip[-1] = '0'\n",
    "        #flip[0] = dict_names[flip[0]]\n",
    "        \n",
    "    flipflops = np.array(flipflops)\n",
    "    flipflops = flipflops.astype('int64')\n",
    "    #print(flipflops)\n",
    "    return flipflops, names, list_names"
   ]
  },
  {
   "cell_type": "code",
   "execution_count": 7,
   "metadata": {
    "scrolled": false
   },
   "outputs": [
    {
     "name": "stdout",
     "output_type": "stream",
     "text": [
      "no file\n",
      "no file\n",
      "104\n"
     ]
    }
   ],
   "source": [
    "n_systems = len(systems)\n",
    "#print(len(systems))\n",
    "n_flipflops_sytems = np.zeros((n_systems,7), dtype=np.float64)\n",
    "j = 0\n",
    "flipflops_dict = {}\n",
    "for i, system in enumerate(systems):\n",
    "    if 'WARNINGS' in system and 'ORIENTATION' in system['WARNINGS'] and system['WARNINGS']['ORIENTATION'] == 'x-normal':\n",
    "        continue\n",
    "    if system['SOFTWARE'] == 'openMM':\n",
    "        continue\n",
    "        \n",
    "    path = system['path']\n",
    "    n_flipflops_sytems[i][2] = system['TEMPERATURE']\n",
    "    time = system['TRJLENGTH']/1000000\n",
    "    #n_flipflops_sytems[i][3] = time#*1000000/system['TRAJECTORY_SIZE']\n",
    "    #print(n_flipflops_sytems[i][3])\n",
    "    n_flipflops_sytems[i][4] = CalcAreaPerMolecule(system)\n",
    "    \n",
    "    try:\n",
    "        n_flipflops_sytems[i][5] = GetThickness(system)\n",
    "    except:\n",
    "        n_flipflops_sytems[i][5] = 0\n",
    "    try:\n",
    "        n_flipflops_sytems[i][6] = averageOrderParameters(system)\n",
    "    except:\n",
    "        n_flipflops_sytems[i][6] = 0\n",
    "    \n",
    "    flipflops, names, list_names = getFlipflop(path)\n",
    "    \n",
    "    #print(list_names, path)\n",
    "    \n",
    "    if names != []:\n",
    "        #print(list_names, path)\n",
    "        mask = list(np.not_equal(flipflops[:,-1],0))\n",
    "        names_masked = list(compress(names, mask))\n",
    "        list_names = list(set(names_masked))\n",
    "        if len(list_names) == 1:\n",
    "            count = sum(system['COMPOSITION'][list_names[0]]['COUNT'])\n",
    "            n_flipflops_sytems[i][0] = np.count_nonzero(flipflops[:,-1] == 1)/time/count\n",
    "            n_flipflops_sytems[i][1] = np.count_nonzero(flipflops[:,-1] == 0)/time/count\n",
    "            n_flipflops_sytems[i][3] = np.sort(flipflops[:,1])[0]\n",
    "\n",
    "\n",
    "            if list_names[0] in flipflops_dict:\n",
    "                flipflops_dict[list_names[0]] = np.append(flipflops_dict[list_names[0]], n_flipflops_sytems[i])\n",
    "\n",
    "            else:\n",
    "                flipflops_dict[list_names[0]] = np.array(n_flipflops_sytems[i])\n",
    "        elif len(list_names) == 0:\n",
    "            count = 1\n",
    "        else:\n",
    "            print('more then 1 lipid flipfloped... tba')\n",
    "        j +=1\n",
    "for name in flipflops_dict.keys():\n",
    "    flipflops_dict[name] = np.reshape(flipflops_dict[name],(-1,7))\n",
    "    #print(flipflops_dict[name])\n",
    "    \n",
    "#print(flipflops_dict)\n",
    "    \n",
    "#print(n_flipflops_sytems[:,3])\n",
    "print(j)\n",
    "#print(n_flipflops_sytems)\n",
    "\n"
   ]
  },
  {
   "cell_type": "code",
   "execution_count": 18,
   "metadata": {},
   "outputs": [
    {
     "data": {
      "text/plain": [
       "[]"
      ]
     },
     "execution_count": 18,
     "metadata": {},
     "output_type": "execute_result"
    },
    {
     "data": {
      "image/png": "[encoded data removed]",
      "text/plain": [
       "<Figure size 432x288 with 1 Axes>"
      ]
     },
     "metadata": {
      "needs_background": "light"
     },
     "output_type": "display_data"
    }
   ],
   "source": [
    "mask = np.not_equal(n_flipflops_sytems[:,0],0)\n",
    "flipflips_masked = n_flipflops_sytems[mask]\n",
    "\n",
    "avg_flipflops, bined_T, foo = stats.binned_statistic(\n",
    "                             flipflips_masked[:,2], \n",
    "                             flipflips_masked[:,0], \n",
    "                             statistic='mean', \n",
    "                             bins=6, \n",
    "                             range=(275, 335))\n",
    "avg_flipflops = np.nan_to_num(avg_flipflops)\n",
    "mask = np.not_equal(avg_flipflops, 0)\n",
    "\n",
    "avg_flipflops = avg_flipflops[mask] \n",
    "bined_T = bined_T[:-1][mask] + 5\n",
    "\n",
    "names = list(flipflops_dict.keys())\n",
    "names.sort()\n",
    "for name in names:\n",
    "    plt.scatter(flipflops_dict[name][:,2], flipflops_dict[name][:,0], s = 20)\n",
    "plt.scatter(bined_T, avg_flipflops, c = 'k')\n",
    "plt.plot(bined_T, avg_flipflops, c = 'k')\n",
    "plt.legend(['average','CHOL','DCHOL','DOG'])\n",
    "plt.xlim(280, 340)\n",
    "plt.xlabel('temp (K)')\n",
    "plt.ylabel('flipflops per microsecond per lipid ($\\mu$$s^{-1}$)')\n",
    "plt.plot()"
   ]
  },
  {
   "cell_type": "code",
   "execution_count": 19,
   "metadata": {},
   "outputs": [
    {
     "name": "stdout",
     "output_type": "stream",
     "text": [
      " \n",
      "-7.726 x + 23.44\n"
     ]
    },
    {
     "data": {
      "text/plain": [
       "[]"
      ]
     },
     "execution_count": 19,
     "metadata": {},
     "output_type": "execute_result"
    },
    {
     "data": {
      "image/png": "[encoded data removed]",
      "text/plain": [
       "<Figure size 432x288 with 1 Axes>"
      ]
     },
     "metadata": {
      "needs_background": "light"
     },
     "output_type": "display_data"
    }
   ],
   "source": [
    "inv_T = 1000/bined_T\n",
    "fliplops_loged = np.log(avg_flipflops)\n",
    "\n",
    "polynome = np.polyfit(inv_T, fliplops_loged, 1)\n",
    "p = np.poly1d(polynome)\n",
    "print(p)\n",
    "\n",
    "plt.scatter(inv_T, fliplops_loged, c = 'k')\n",
    "plt.plot(inv_T, p(inv_T), c = 'k')\n",
    "#plt.ylim(-1, 50)\n",
    "plt.xlabel('1000/T')\n",
    "plt.ylabel('log(flipflops)')\n",
    "plt.plot()"
   ]
  },
  {
   "cell_type": "code",
   "execution_count": 20,
   "metadata": {
    "scrolled": false
   },
   "outputs": [
    {
     "name": "stdout",
     "output_type": "stream",
     "text": [
      "['CHOL', 'DCHOL', 'DOG']\n"
     ]
    },
    {
     "data": {
      "text/plain": [
       "[]"
      ]
     },
     "execution_count": 20,
     "metadata": {},
     "output_type": "execute_result"
    },
    {
     "data": {
      "image/png": "[encoded data removed]",
      "text/plain": [
       "<Figure size 432x288 with 1 Axes>"
      ]
     },
     "metadata": {
      "needs_background": "light"
     },
     "output_type": "display_data"
    }
   ],
   "source": [
    "mask = np.not_equal(n_flipflops_sytems[:,0],0)\n",
    "flipflops_masked = n_flipflops_sytems[mask]\n",
    "\n",
    "\n",
    "#plt.scatter(flipflops_masked[:,3], flipflops_masked[:,0])\n",
    "names = list(flipflops_dict.keys())\n",
    "names.sort()\n",
    "print(names)\n",
    "for name in names:\n",
    "    plt.scatter(flipflops_dict[name][:,3], flipflops_dict[name][:,0])\n",
    "plt.legend(['CHOL','DCHOL','DOG'])\n",
    "#plt.xlim(-1, 50)\n",
    "plt.xlabel('frame')\n",
    "plt.ylabel('flipflops per microsecond per lipid($\\mu$$s^{-1}$)')\n",
    "plt.plot()\n",
    "\n"
   ]
  },
  {
   "cell_type": "code",
   "execution_count": 21,
   "metadata": {
    "scrolled": true
   },
   "outputs": [
    {
     "name": "stdout",
     "output_type": "stream",
     "text": [
      "(0.5509454923998122, 0.00012893554134368654)\n"
     ]
    },
    {
     "data": {
      "text/plain": [
       "[]"
      ]
     },
     "execution_count": 21,
     "metadata": {},
     "output_type": "execute_result"
    },
    {
     "data": {
      "image/png": "[encoded data removed]",
      "text/plain": [
       "<Figure size 432x288 with 1 Axes>"
      ]
     },
     "metadata": {
      "needs_background": "light"
     },
     "output_type": "display_data"
    }
   ],
   "source": [
    "mask = np.not_equal(n_flipflops_sytems[:,0],0)\n",
    "flipflips_masked = n_flipflops_sytems[mask]\n",
    "\n",
    "\n",
    "\n",
    "#checking system with temp ~310K\n",
    "mask = np.greater(flipflips_masked[:,2],308)\n",
    "flipflips_masked = flipflips_masked[mask]\n",
    "mask = np.less(flipflips_masked[:,2],312)\n",
    "flipflips_masked = flipflips_masked[mask]\n",
    "\n",
    "print(stats.pearsonr(flipflips_masked[:,4], flipflips_masked[:,0]))\n",
    "\n",
    "plt.scatter(flipflips_masked[:,4], flipflips_masked[:,0])\n",
    "#plt.ylim(-1, 50)\n",
    "plt.xlabel('area per lipid (nm^2)')\n",
    "plt.ylabel('flipflops per microsecond per lipid($\\mu$$s^{-1}$)')\n",
    "plt.plot()"
   ]
  },
  {
   "cell_type": "code",
   "execution_count": 22,
   "metadata": {},
   "outputs": [
    {
     "name": "stdout",
     "output_type": "stream",
     "text": [
      "(-0.38285904983182234, 0.011278018078506076)\n"
     ]
    },
    {
     "data": {
      "text/plain": [
       "[]"
      ]
     },
     "execution_count": 22,
     "metadata": {},
     "output_type": "execute_result"
    },
    {
     "data": {
      "image/png": "[encoded data removed]",
      "text/plain": [
       "<Figure size 432x288 with 1 Axes>"
      ]
     },
     "metadata": {
      "needs_background": "light"
     },
     "output_type": "display_data"
    }
   ],
   "source": [
    "mask = np.not_equal(n_flipflops_sytems[:,0],0)\n",
    "flipflips_masked = n_flipflops_sytems[mask]\n",
    "\n",
    "#checking system with temp ~310K\n",
    "mask = np.greater(flipflips_masked[:,2],308)\n",
    "flipflips_masked = flipflips_masked[mask]\n",
    "mask = np.less(flipflips_masked[:,2],312)\n",
    "flipflips_masked = flipflips_masked[mask]\n",
    "\n",
    "print(stats.pearsonr(flipflips_masked[:,5], flipflips_masked[:,0]))\n",
    "\n",
    "plt.scatter(flipflips_masked[:,5], flipflips_masked[:,0])\n",
    "#plt.ylim(-1, 50)\n",
    "plt.xlabel('thickness (nm)')\n",
    "plt.ylabel('flipflops per microsecond per lipid($\\mu$$s^{-1}$)')\n",
    "plt.plot()"
   ]
  },
  {
   "cell_type": "code",
   "execution_count": 25,
   "metadata": {
    "scrolled": true
   },
   "outputs": [
    {
     "name": "stdout",
     "output_type": "stream",
     "text": [
      "(0.14619101958519748, 0.2778737687965739)\n"
     ]
    },
    {
     "data": {
      "text/plain": [
       "[]"
      ]
     },
     "execution_count": 25,
     "metadata": {},
     "output_type": "execute_result"
    },
    {
     "data": {
      "image/png": "[encoded data removed]",
      "text/plain": [
       "<Figure size 432x288 with 1 Axes>"
      ]
     },
     "metadata": {
      "needs_background": "light"
     },
     "output_type": "display_data"
    }
   ],
   "source": [
    "mask = np.not_equal(n_flipflops_sytems[:,0],0)\n",
    "flipflips_masked = n_flipflops_sytems[mask]\n",
    "\n",
    "print(stats.pearsonr(flipflips_masked[:,1], flipflips_masked[:,0]))\n",
    "\n",
    "plt.scatter(flipflips_masked[:,1], flipflips_masked[:,0])\n",
    "#lt.xlim(0, 1.7)\n",
    "plt.xlabel('successful flipflops ($\\mu$$s^{-1}$)')\n",
    "plt.ylabel('failed flipflops ($\\mu$$s^{-1}$)')\n",
    "plt.plot()"
   ]
  },
  {
   "cell_type": "code",
   "execution_count": 24,
   "metadata": {},
   "outputs": [
    {
     "name": "stdout",
     "output_type": "stream",
     "text": [
      "(-0.5544566635380087, 0.00011434072295098443)\n"
     ]
    },
    {
     "data": {
      "text/plain": [
       "[]"
      ]
     },
     "execution_count": 24,
     "metadata": {},
     "output_type": "execute_result"
    },
    {
     "data": {
      "image/png": "[encoded data removed]",
      "text/plain": [
       "<Figure size 432x288 with 1 Axes>"
      ]
     },
     "metadata": {
      "needs_background": "light"
     },
     "output_type": "display_data"
    }
   ],
   "source": [
    "mask = np.not_equal(n_flipflops_sytems[:,0],0)\n",
    "flipflips_masked = n_flipflops_sytems[mask]\n",
    "\n",
    "#checking system with temp ~310K\n",
    "\n",
    "mask = np.greater(flipflips_masked[:,2],308)\n",
    "flipflips_masked = flipflips_masked[mask]\n",
    "mask = np.less(flipflips_masked[:,2],312)\n",
    "flipflips_masked = flipflips_masked[mask]\n",
    "\n",
    "print(stats.pearsonr(flipflips_masked[:,6], flipflips_masked[:,0]))\n",
    "\n",
    "plt.scatter(flipflips_masked[:,6], flipflips_masked[:,0])\n",
    "#plt.ylim(-1, 50)\n",
    "plt.xlabel('tail order parameter')\n",
    "plt.ylabel('flipflops per microsecond per lipid($\\mu$$s^{-1}$)')\n",
    "plt.plot()"
   ]
  },
  {
   "cell_type": "code",
   "execution_count": null,
   "metadata": {},
   "outputs": [],
   "source": []
  },
  {
   "cell_type": "code",
   "execution_count": null,
   "metadata": {},
   "outputs": [],
   "source": []
  }
 ],
 "metadata": {
  "kernelspec": {
   "display_name": "Python 3",
   "language": "python",
   "name": "python3"
  },
  "language_info": {
   "codemirror_mode": {
    "name": "ipython",
    "version": 3
   },
   "file_extension": ".py",
   "mimetype": "text/x-python",
   "name": "python",
   "nbconvert_exporter": "python",
   "pygments_lexer": "ipython3",
   "version": "3.8.10"
  }
 },
 "nbformat": 4,
 "nbformat_minor": 5
}
